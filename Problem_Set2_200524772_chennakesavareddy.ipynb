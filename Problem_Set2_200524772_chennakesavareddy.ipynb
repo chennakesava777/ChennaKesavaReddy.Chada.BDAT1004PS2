{
 "cells": [
  {
   "cell_type": "code",
   "execution_count": 1,
   "id": "27b47628",
   "metadata": {},
   "outputs": [
    {
     "name": "stdout",
     "output_type": "stream",
     "text": [
      "6\n"
     ]
    }
   ],
   "source": [
    "a = 0\n",
    "def b():\n",
    " global a\n",
    " a = c(a)\n",
    "def c(a):\n",
    " return a + 2\n",
    "b()\n",
    "b()\n",
    "b()\n",
    "print(a)"
   ]
  },
  {
   "cell_type": "markdown",
   "id": "470ece52",
   "metadata": {},
   "source": [
    "The value of 'a' is 6 after the last expression of 'a' is evaluated, this is because the intial value of 'a' is 0 and its being incremented by 2 at each iteration when the function 'b' is called which inturn calls the function 'c'. And since the variable 'a' is declared as global when the function 'b' is called, the value of 'a' would be fixed to the value of last expression that gets evaluated and ignores the variable value intialised outside the function."
   ]
  },
  {
   "cell_type": "code",
   "execution_count": 26,
   "id": "2e107f89",
   "metadata": {},
   "outputs": [
    {
     "name": "stdout",
     "output_type": "stream",
     "text": [
      "Length of the file : 73\n",
      "File idterm.py not found\n"
     ]
    }
   ],
   "source": [
    "def filelength(filename):\n",
    "    try:\n",
    "        infile = open(filename,'r')\n",
    "        file = infile.read()\n",
    "        length = len(file)\n",
    "        if (length>0):\n",
    "            print(f\"Length of the file : {length}\")\n",
    "        else:\n",
    "            print(\"There is no content in the file\")\n",
    "    except:\n",
    "        print(\"File \"+ filename + \" not found\")\n",
    "        \n",
    "filelength('midterm.txt')\n",
    "filelength('idterm.py')\n",
    "    "
   ]
  },
  {
   "cell_type": "code",
   "execution_count": 45,
   "id": "beff3fd3",
   "metadata": {},
   "outputs": [
    {
     "name": "stdout",
     "output_type": "stream",
     "text": [
      "['doll', 'firetruck', 'kitten']\n",
      "I am a Kangaroo located at coordinates (3,0)\n"
     ]
    }
   ],
   "source": [
    "class Marsupial:\n",
    "    contents = []\n",
    "    def put_in_pouch(self,toy):\n",
    "        self.contents.append(toy)\n",
    "    def pouch_contents(self):\n",
    "        print(self.contents)\n",
    "\n",
    "class Kangaroo(Marsupial):\n",
    "    def __init__(self, xcoord=0, ycoord=0):\n",
    "        self.x = xcoord\n",
    "        self.y = ycoord\n",
    "\n",
    "    def jump(self, dx, dy):\n",
    "        self.x += dx\n",
    "        self.y += dy\n",
    "    def __str__(self):\n",
    "        return f\"I am a Kangaroo located at coordinates ({self.x},{self.y})\"\n",
    "k = Kangaroo(0,0)\n",
    "k.put_in_pouch('doll')\n",
    "k.put_in_pouch('firetruck')\n",
    "k.put_in_pouch('kitten')\n",
    "k.pouch_contents()\n",
    "k.jump(1,0)\n",
    "k.jump(1,0)\n",
    "k.jump(1,0)\n",
    "print(k)"
   ]
  },
  {
   "cell_type": "code",
   "execution_count": 20,
   "id": "fb69e32c",
   "metadata": {},
   "outputs": [
    {
     "name": "stdout",
     "output_type": "stream",
     "text": [
      "10\n",
      "5\n",
      "16\n",
      "8\n",
      "4\n",
      "2\n",
      "1\n"
     ]
    }
   ],
   "source": [
    "def collatz(x):\n",
    "    print(int(x))\n",
    "    if x==1:\n",
    "        exit\n",
    "    elif x>1 and x%2==0:\n",
    "        x=x/2\n",
    "        collatz(x)\n",
    "    else:\n",
    "        x= (3*x)+1\n",
    "        collatz(x)\n",
    "collatz(10)"
   ]
  },
  {
   "cell_type": "code",
   "execution_count": 47,
   "id": "a6ceb206",
   "metadata": {},
   "outputs": [
    {
     "data": {
      "text/plain": [
       "'01001'"
      ]
     },
     "execution_count": 47,
     "metadata": {},
     "output_type": "execute_result"
    }
   ],
   "source": [
    "def binary(n):\n",
    "    if n < 0:\n",
    "        return 'Must be a positive integer'\n",
    "    elif n == 0:\n",
    "        return '0'\n",
    "    else:\n",
    "        return binary(n//2) + str(n%2)\n",
    "\n",
    "binary(9)\n"
   ]
  },
  {
   "cell_type": "code",
   "execution_count": 9,
   "id": "c542796c",
   "metadata": {},
   "outputs": [
    {
     "name": "stdout",
     "output_type": "stream",
     "text": [
      "W3C Mission\n",
      "\n",
      "\t\n",
      "Principles\n",
      "\n",
      "\n",
      "\n",
      "\n",
      "\n",
      "\n"
     ]
    }
   ],
   "source": [
    "from html.parser import HTMLParser\n",
    "class HeadingParser(HTMLParser):\n",
    "    def __init__(self):\n",
    "        HTMLParser.__init__(self)\n",
    "        self.tags = []\n",
    "    \n",
    "    def handle_starttag(self, tag, attrs):\n",
    "        if tag == ('h1' or 'h2' or 'h3'or 'h4' or 'h5'):\n",
    "            self.tags = tag\n",
    "\n",
    "    def handle_data(self,data):\n",
    "        if self.tags == ('h1' or 'h2' or 'h3' or 'h4' or 'h5'):\n",
    "            print(data) \n",
    "            \n",
    "infile = open('w3c.html') \n",
    "content = infile.read() \n",
    "infile.close() \n",
    "hp = HeadingParser() \n",
    "hp.feed(content)\n"
   ]
  },
  {
   "cell_type": "code",
   "execution_count": 49,
   "id": "963753b8",
   "metadata": {},
   "outputs": [
    {
     "name": "stdout",
     "output_type": "stream",
     "text": [
      "[<a href=\"http://reed.cs.depaul.edu/lperkovic/test2.html\"> Link\n",
      "to test2.html </a>, <a href=\"test3.html\"> Link to test3.html</a>]\n"
     ]
    }
   ],
   "source": [
    "from urllib.request import urlopen\n",
    "from urllib.parse import urljoin\n",
    "\n",
    "from html.parser import HTMLParser\n",
    "\n",
    "from bs4 import BeautifulSoup\n",
    "\n",
    "def webdir(url,depth,indent):\n",
    "    \n",
    "    htmlfile = urlopen(url).read()\n",
    "    soup = BeautifulSoup(htmlfile)\n",
    "    a_tag = soup.find_all('a') # This finds the first occurrence of an a tag.\n",
    "    print(a_tag)\n",
    "   \n",
    "       \n",
    "        \n",
    "\n",
    "    \n",
    "webdir('https://reed.cs.depaul.edu/lperkovic/test1.html',2,0)"
   ]
  },
  {
   "cell_type": "markdown",
   "id": "d4353701",
   "metadata": {},
   "source": [
    "Question 8\n",
    "a) SELECT Temperatur(C) from table\n",
    "b) SELECT DISTINCT City from table\n",
    "c) SELECT * from table WHERE Country = 'India'\n",
    "d) SELECT * from table WHERE Season = 'Fall'\n",
    "e) SELECT City, Country , Season from table WHERE Rainfall(mm) BETWEEN 200 and 400\n",
    "f) SELECT City, Country from table WHERE Season = 'Fall' AND Teamperature(C) > 20 ORDER BY Temperatur(C)\n",
    "g) SELECT SUM(Rainfall) from table WHERE City = 'Cairo'\n",
    "h) SELECT DISTING Season, SUM(Rainfall) from table"
   ]
  },
  {
   "cell_type": "code",
   "execution_count": 22,
   "id": "83406ea0",
   "metadata": {},
   "outputs": [
    {
     "name": "stdout",
     "output_type": "stream",
     "text": [
      "['THE', 'QUICK', 'BROWN', 'FOX', 'JUMPS', 'OVER', 'THE', 'LAZY', 'DOG']\n",
      "['the', 'quick', 'brown', 'fox', 'jumps', 'over', 'the', 'lazy', 'dog']\n",
      "[3, 5, 5, 3, 5, 4, 3, 4, 3]\n",
      "[['THE', 'the', 3], ['QUICK', 'quick', 5], ['BROWN', 'brown', 5], ['FOX', 'fox', 3], ['JUMPS', 'jumps', 5], ['OVER', 'over', 4], ['THE', 'the', 3], ['LAZY', 'lazy', 4], ['DOG', 'dog', 3]]\n",
      "['quick', 'brown', 'jumps', 'over', 'lazy']\n"
     ]
    }
   ],
   "source": [
    "words = ['The', 'quick', 'brown', 'fox', 'jumps', 'over', 'the', 'lazy', 'dog']\n",
    "allcaps = [word.upper() for word in words]\n",
    "print(allcaps)\n",
    "alllower = [word.lower() for word in words]\n",
    "print(alllower)\n",
    "lengths = [len(word) for word in words]\n",
    "print(lengths)\n",
    "list_of_three = [[word.upper(), word.lower(), len(word)] for word in words]\n",
    "print(list_of_three)\n",
    "words_of_length4_ormore = [word for word in words if len(word) >=4]\n",
    "print(words_of_length4_ormore)\n"
   ]
  }
 ],
 "metadata": {
  "kernelspec": {
   "display_name": "Python 3 (ipykernel)",
   "language": "python",
   "name": "python3"
  },
  "language_info": {
   "codemirror_mode": {
    "name": "ipython",
    "version": 3
   },
   "file_extension": ".py",
   "mimetype": "text/x-python",
   "name": "python",
   "nbconvert_exporter": "python",
   "pygments_lexer": "ipython3",
   "version": "3.9.12"
  }
 },
 "nbformat": 4,
 "nbformat_minor": 5
}
